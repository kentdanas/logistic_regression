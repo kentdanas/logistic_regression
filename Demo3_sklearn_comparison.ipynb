{
 "cells": [
  {
   "cell_type": "markdown",
   "metadata": {},
   "source": [
    "# Demo 3: Comparison with Scikit-Learn"
   ]
  },
  {
   "cell_type": "markdown",
   "metadata": {},
   "source": [
    "For this demo of my own l2 regularized logistic regression implemented in Python I compare my results to those obtained using scikit-learn's built in logistic regression functions. The dataset I used for comparison is the Spam dataset from the Elements of Statistical Learning, which can be found at the following link:\n",
    "\n",
    "https://web.stanford.edu/~hastie/ElemStatLearn/datasets/spam.data\n",
    "\n",
    "In this notebook I compare the results of my algorithm to scikit-learn's by reviewing the final model coefficients, the final objective function value acheived at convergence, and the misclassification error on the test set."
   ]
  },
  {
   "cell_type": "markdown",
   "metadata": {},
   "source": [
    "## Package Imports and Notebook Setup"
   ]
  },
  {
   "cell_type": "code",
   "execution_count": 30,
   "metadata": {},
   "outputs": [],
   "source": [
    "# Import my logistic regression module\n",
    "import src.logistic_regression as lr\n",
    "\n",
    "# Import other required python packages\n",
    "import matplotlib.pyplot as plt\n",
    "import numpy as np\n",
    "import pandas as pd\n",
    "from sklearn import datasets\n",
    "from sklearn.linear_model import LogisticRegression\n",
    "from sklearn import metrics\n",
    "from sklearn.model_selection import train_test_split\n",
    "from sklearn import preprocessing\n",
    "\n",
    "# Show all output from each cell\n",
    "from IPython.core.interactiveshell import InteractiveShell\n",
    "InteractiveShell.ast_node_inateractivity = \"all\""
   ]
  },
  {
   "cell_type": "markdown",
   "metadata": {},
   "source": [
    "## Import and Standardize Data"
   ]
  },
  {
   "cell_type": "markdown",
   "metadata": {},
   "source": [
    "I import the spam dataset from the Elements of Statistical Learning datasets website (see link in introduction). I split the predictors and response into separate variables, and then convert the response to -1/+1 classes. I then split the data into training and test sets using the default split (25% allocated to the test set). The model will be trained using the training set, with the test set withheld for evaluating performance. Finally, I standardize the predictor data, which ensures that predictors of different scales do not dominate the minimization process. Here the response data does not need to be standardized since it is categorical."
   ]
  },
  {
   "cell_type": "code",
   "execution_count": 4,
   "metadata": {},
   "outputs": [],
   "source": [
    "# Import data\n",
    "spam = pd.read_csv('https://web.stanford.edu/~hastie/ElemStatLearn/datasets/spam.data', sep=' ', header=None)\n",
    "\n",
    "# Split data into predictors and response and change classes to -1/+1\n",
    "x = spam.iloc[:, :-1]\n",
    "y = spam.iloc[:, -1]\n",
    "y = y*2 - 1\n",
    "\n",
    "# Divide the data into training and test sets\n",
    "x_train, x_test, y_train, y_test = train_test_split(x, y, random_state=0)\n",
    "\n",
    "# Standardize the predictor data\n",
    "scaler = preprocessing.StandardScaler().fit(x_train)\n",
    "x_train = scaler.transform(x_train)\n",
    "x_test = scaler.transform(x_test)"
   ]
  },
  {
   "cell_type": "markdown",
   "metadata": {},
   "source": [
    "## Initial Implementation & Check for Convergence"
   ]
  },
  {
   "cell_type": "markdown",
   "metadata": {},
   "source": [
    "After importing and standardizing the data and before comparison to scikit learn, I run my model on this dataset to ensure it converges.\n",
    "\n",
    "I initialize the model with a coefficient vector ('beta') of all zeros, and use a regularization parameter of 1. I then plot the resulting objective function value for each iteration of fast gradient descent. The stopping criteria used here is a tolerance for the change in the norm of the gradient at each iteration ('epsilon') which is set to 0.001."
   ]
  },
  {
   "cell_type": "code",
   "execution_count": 31,
   "metadata": {},
   "outputs": [],
   "source": [
    "# Initialize coefficients\n",
    "n, d = x_train.shape\n",
    "beta = np.zeros(d)\n",
    "\n",
    "# Run fast gradient descent for l2 regularized logistic regression on full dataset\n",
    "betas, objs = lr.fastgradalgo(beta_init=beta, lamda=1, x=x_train, y=y_train, t_init=1, epsilon=0.001)"
   ]
  },
  {
   "cell_type": "code",
   "execution_count": 32,
   "metadata": {},
   "outputs": [
    {
     "data": {
      "image/png": "[encoded data removed]",
      "text/plain": [
       "<matplotlib.figure.Figure at 0x1b55a32f0f0>"
      ]
     },
     "metadata": {},
     "output_type": "display_data"
    }
   ],
   "source": [
    "# Plot results\n",
    "plt.plot(objs)\n",
    "plt.xlabel('Iterations')\n",
    "plt.ylabel('Objective Function Value')\n",
    "plt.title('Check for Model Convergence')\n",
    "plt.show();"
   ]
  },
  {
   "cell_type": "markdown",
   "metadata": {},
   "source": [
    "As shown in the plot above, the solution for this method approaches the minimum after only 5 iterations. Now I can compare these results to those obtained with scikit learn."
   ]
  },
  {
   "cell_type": "markdown",
   "metadata": {},
   "source": [
    "## Comparison to Scikit-Learn"
   ]
  },
  {
   "cell_type": "markdown",
   "metadata": {},
   "source": [
    "Here I compare my own logistic regression using the fast gradient descent algorithm to the results from scikit-learn's `LogisticRegression` function. For simplicity, I do this comparison on a dataset with only two classes (so my multi-class classification function are not called), and with chosen default regularization parameter (no crossvalidation). However, the results would be expected to be similar in a multi-class scenario.\n",
    "\n",
    "Note that in order to complete an accurate comparison the regularization parameter must be adjusted when used in scikit-learn's LogisticRegression function. This is because scikit-learn's logistic regression implements normalization differently than my logistic regression does."
   ]
  },
  {
   "cell_type": "code",
   "execution_count": 24,
   "metadata": {},
   "outputs": [],
   "source": [
    "# Initialize coefficients\n",
    "n, d = x_train.shape\n",
    "beta = np.zeros(d)\n",
    "lamda = 0.1\n",
    "\n",
    "# Run my model and save results from final iteration\n",
    "betas, objs = lr.fastgradalgo(beta_init=beta, lamda=lamda, x=x_train, y=y_train, t_init=1, epsilon=0.001)\n",
    "my_beta = betas[-1]\n",
    "\n",
    "# Run scikit learn LogisticRegression on data\n",
    "model = LogisticRegression(C=1/(2*n*lamda))\n",
    "model.fit(x_train, y_train)\n",
    "skl_beta = model.coef_"
   ]
  },
  {
   "cell_type": "markdown",
   "metadata": {},
   "source": [
    "### Final Coefficients"
   ]
  },
  {
   "cell_type": "markdown",
   "metadata": {},
   "source": [
    "Here I compare the final coefficients found by my model with the ones found by scikit-learn's:"
   ]
  },
  {
   "cell_type": "code",
   "execution_count": 33,
   "metadata": {},
   "outputs": [
    {
     "name": "stdout",
     "output_type": "stream",
     "text": [
      "    My Beta  Scikit Learn Beta\n",
      "0   0.02987            0.02630\n",
      "1  -0.02219           -0.02434\n",
      "2   0.08701            0.08718\n",
      "3   0.05859            0.05689\n",
      "4   0.17496            0.17449\n",
      "5   0.12104            0.11794\n",
      "6   0.29477            0.28364\n",
      "7   0.13169            0.12874\n",
      "8   0.12222            0.11603\n",
      "9   0.05097            0.04897\n",
      "10  0.13876            0.13135\n",
      "11 -0.03823           -0.04014\n",
      "12  0.05643            0.05416\n",
      "13  0.03265            0.03171\n",
      "14  0.10877            0.09645\n",
      "15  0.19686            0.19225\n",
      "16  0.15678            0.14824\n",
      "17  0.11888            0.11531\n",
      "18  0.11544            0.11659\n",
      "19  0.12910            0.12074\n",
      "20  0.23536            0.23309\n",
      "21  0.10133            0.10083\n",
      "22  0.25030            0.23420\n",
      "23  0.15332            0.14583\n",
      "24 -0.14810           -0.15736\n",
      "25 -0.10432           -0.11462\n",
      "26 -0.12077           -0.13039\n",
      "27 -0.03483           -0.04095\n",
      "28 -0.05002           -0.05779\n",
      "29 -0.07555           -0.08107\n",
      "30 -0.03293           -0.03931\n",
      "31 -0.01347           -0.02146\n",
      "32 -0.07904           -0.08321\n",
      "33 -0.01615           -0.02398\n",
      "34 -0.05697           -0.06352\n",
      "35 -0.00380           -0.00840\n",
      "36 -0.08044           -0.08501\n",
      "37 -0.02213           -0.02253\n",
      "38 -0.05785           -0.06296\n",
      "39  0.01512            0.00842\n",
      "40 -0.05223           -0.05797\n",
      "41 -0.09651           -0.10194\n",
      "42 -0.05872           -0.06402\n",
      "43 -0.06651           -0.07014\n",
      "44 -0.11073           -0.11580\n",
      "45 -0.11029           -0.11665\n",
      "46 -0.04494           -0.04585\n",
      "47 -0.05970           -0.06289\n",
      "48 -0.06774           -0.06823\n",
      "49 -0.03288           -0.03550\n",
      "50 -0.02812           -0.03056\n",
      "51  0.15952            0.15518\n",
      "52  0.25652            0.24319\n",
      "53  0.06021            0.05714\n",
      "54  0.06662            0.06026\n",
      "55  0.13384            0.12319\n",
      "56  0.16632            0.16097\n"
     ]
    }
   ],
   "source": [
    "# Combine results\n",
    "results = pd.DataFrame(np.c_[my_beta, skl_beta[0]])\n",
    "results.columns = ['My Beta', 'Scikit Learn Beta']\n",
    "print(round(results,5))"
   ]
  },
  {
   "cell_type": "markdown",
   "metadata": {},
   "source": [
    "The resulting coefficients from my logistic regression are very close to those obtained using scikit-learn's logistic regression."
   ]
  },
  {
   "cell_type": "markdown",
   "metadata": {},
   "source": [
    "### Final Objective Value"
   ]
  },
  {
   "cell_type": "markdown",
   "metadata": {},
   "source": [
    "Here I compare the final objective function value acheived at convergence for my algorithm versus scikit-learn's"
   ]
  },
  {
   "cell_type": "code",
   "execution_count": 26,
   "metadata": {},
   "outputs": [
    {
     "name": "stdout",
     "output_type": "stream",
     "text": [
      "    My Obj  Sklearn Obj\n",
      "0  0.45069      0.45113\n"
     ]
    }
   ],
   "source": [
    "# Calculate objective values\n",
    "my_obj = lr.obj(beta=my_beta, lamda=0.1, x=x_train, y=y_train)\n",
    "skl_obj = lr.obj(beta=skl_beta[0], lamda=0.1, x=x_train, y=y_train)\n",
    "\n",
    "#show results\n",
    "objs = pd.DataFrame(np.c_[my_obj, skl_obj])\n",
    "objs.columns = ['My Obj', 'Sklearn Obj']\n",
    "print(round(objs,5))"
   ]
  },
  {
   "cell_type": "markdown",
   "metadata": {},
   "source": [
    "The final objective function value acheived by my algorithm is very close to that acheived by scikit-learn's (difference of approximately 0.1%)."
   ]
  },
  {
   "cell_type": "markdown",
   "metadata": {},
   "source": [
    "### Misclassification Error"
   ]
  },
  {
   "cell_type": "markdown",
   "metadata": {},
   "source": [
    "Here I compare the misclassification error of my model to the misclassification error of scikit-learn's logistic regression."
   ]
  },
  {
   "cell_type": "code",
   "execution_count": 29,
   "metadata": {},
   "outputs": [
    {
     "name": "stdout",
     "output_type": "stream",
     "text": [
      "   My Misclassification  Sklearn Misclassification\n",
      "0                10.686                     10.252\n"
     ]
    }
   ],
   "source": [
    "# Calculate my predictions\n",
    "my_predictions = my_beta.dot(x_test.T)\n",
    "my_predictions[my_predictions >= 0] = 1\n",
    "my_predictions[my_predictions < 0] = -1\n",
    "\n",
    "# Get scikit learn's predictions\n",
    "skl_predictions = model.predict(x_test)\n",
    "\n",
    "# Calculate misclassification errors\n",
    "my_misclass = (1 - np.mean(my_predictions == y_test))*100\n",
    "skl_misclass = (1 - np.mean(skl_predictions == y_test))*100\n",
    "\n",
    "# Show results\n",
    "misclass = pd.DataFrame(np.c_[my_misclass, skl_misclass])\n",
    "misclass.columns = ['My Misclassification', 'Sklearn Misclassification']\n",
    "print(round(misclass,3))"
   ]
  },
  {
   "cell_type": "markdown",
   "metadata": {},
   "source": [
    "The misclassification error for my model is very close to that from scikit-learn's. This is as expected given that the coefficients found by both models were very close to the same."
   ]
  }
 ],
 "metadata": {
  "kernelspec": {
   "display_name": "Python 3",
   "language": "python",
   "name": "python3"
  },
  "language_info": {
   "codemirror_mode": {
    "name": "ipython",
    "version": 3
   },
   "file_extension": ".py",
   "mimetype": "text/x-python",
   "name": "python",
   "nbconvert_exporter": "python",
   "pygments_lexer": "ipython3",
   "version": "3.6.4"
  }
 },
 "nbformat": 4,
 "nbformat_minor": 2
}
