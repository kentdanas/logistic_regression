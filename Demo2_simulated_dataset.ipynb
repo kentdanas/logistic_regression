{
 "cells": [
  {
   "cell_type": "markdown",
   "metadata": {},
   "source": [
    "# Demo 2 - Simulated Data"
   ]
  },
  {
   "cell_type": "markdown",
   "metadata": {},
   "source": [
    "For this demo of my own l2 regularized logistic regression implemented in Python I use a simulated dataset created using scikit-learn's `make_classification` function. The dataset consists of 1000 samples with 10 features, which fall into 3 different classes ('0', '1', or '2').\n",
    "\n",
    "In this notebook I demonstrate the capabilities of fast gradient descent and the one versus one multi-class classification strategy to classify the observations based on the predicting features. "
   ]
  },
  {
   "cell_type": "markdown",
   "metadata": {},
   "source": [
    "## Package Imports and Notebook Setup"
   ]
  },
  {
   "cell_type": "code",
   "execution_count": 1,
   "metadata": {},
   "outputs": [],
   "source": [
    "# Import my logistic regression module\n",
    "import src.logistic_regression as lr\n",
    "\n",
    "# Import other required python packages\n",
    "import matplotlib.pyplot as plt\n",
    "import numpy as np\n",
    "from sklearn import datasets\n",
    "from sklearn import metrics\n",
    "from sklearn.model_selection import train_test_split\n",
    "from sklearn import preprocessing\n",
    "\n",
    "# Show all output from each cell\n",
    "from IPython.core.interactiveshell import InteractiveShell\n",
    "InteractiveShell.ast_node_inateractivity = \"all\""
   ]
  },
  {
   "cell_type": "markdown",
   "metadata": {},
   "source": [
    "## Create and Standardize Simulated Data"
   ]
  },
  {
   "cell_type": "markdown",
   "metadata": {},
   "source": [
    "Here I create a simulated dataset with scikit-learn's built in datasets module using the `make_classification` function. I chose 1000 samples with 10 features and 3 classes. This functions creates clusters of normally distributed points based on the features; it also includes interdependence between the features and adds noise to the data. More documentation on this function can be found here:\n",
    "\n",
    "http://scikit-learn.org/stable/modules/generated/sklearn.datasets.make_classification.html\n",
    "\n",
    "After generating the data I split it into training and test sets using the default split (25% allocated to the test set). The model will be trained using the training set, with the test set withheld for evaluating performance. Finally, I standardize the predictor data, which ensures that predictors of different scales do not dominate the minimization process. Here the response data does not need to be standardized since it is categorical."
   ]
  },
  {
   "cell_type": "code",
   "execution_count": 2,
   "metadata": {},
   "outputs": [],
   "source": [
    "# Create simulated dataset\n",
    "x, y = datasets.make_classification(n_samples=1000, n_features=10, n_classes=3, n_clusters_per_class=1)\n",
    "\n",
    "# # Split data into training and test sets\n",
    "x_train, x_test, y_train, y_test = train_test_split(x, y, random_state=0)\n",
    "\n",
    "# Standardize the predictor data\n",
    "scaler = preprocessing.StandardScaler()\n",
    "x_train = scaler.fit_transform(x_train)\n",
    "x_test = scaler.fit_transform(x_test)"
   ]
  },
  {
   "cell_type": "markdown",
   "metadata": {},
   "source": [
    "## Initial Implementatin & Check for Convergence"
   ]
  },
  {
   "cell_type": "markdown",
   "metadata": {},
   "source": [
    "After creating and standardizing the data, I run the model on the full dataset. Since this model is only intended for binary classification and this dataset contains three classes, the output here is not interpretable yet. However, it is useful for ensuring that the model converges.\n",
    "\n",
    "I initialize the model with a coefficient vector ('beta') of all zeros, and use a regularization parameter of 1. I then plot the resulting objective function value for each iteration of fast gradient descent. The stopping criteria used here is a tolerance for the change in the norm of the gradient at each iteration ('epsilon') which is set to 0.001."
   ]
  },
  {
   "cell_type": "code",
   "execution_count": 3,
   "metadata": {},
   "outputs": [],
   "source": [
    "# Initialize Coefficients\n",
    "n, d = x_train.shape\n",
    "beta = np.zeros(d)\n",
    "\n",
    "# Run fast gradient descent for l2 regularized logistic regression on full dataset\n",
    "betas, objs = lr.fastgradalgo(beta_init=beta, lamda=1, x=x_train, y=y_train, t_init=1, epsilon=0.001)"
   ]
  },
  {
   "cell_type": "code",
   "execution_count": 4,
   "metadata": {},
   "outputs": [
    {
     "data": {
      "image/png": "[encoded data removed]",
      "text/plain": [
       "<matplotlib.figure.Figure at 0x2214fa75898>"
      ]
     },
     "metadata": {},
     "output_type": "display_data"
    }
   ],
   "source": [
    "# Plot results\n",
    "plt.plot(objs)\n",
    "plt.xlabel('Iterations')\n",
    "plt.ylabel('Objective Function Value')\n",
    "plt.title('Check for Model Convergence')\n",
    "plt.show();"
   ]
  },
  {
   "cell_type": "markdown",
   "metadata": {},
   "source": [
    "As shown in the plot above, the solution for this method approaches the minimum and reaches the stopping criteria after less than 10 iterations."
   ]
  },
  {
   "cell_type": "markdown",
   "metadata": {},
   "source": [
    "## One-vs-One Multi-Class Classification"
   ]
  },
  {
   "cell_type": "markdown",
   "metadata": {},
   "source": [
    "After ensuring that the model converges on this simulated dataset, I implement the full multi-class classification problem by using a one-vs-one classification strategy. This method trains a model for every pair of classes and makes a prediction based on that model; the final predicted class is then chosen to be the most common class predicted by the one-vs-one models.\n",
    "\n",
    "I initialize my one-vs-one function by inputting the training data, the test predictors, the initial stepsize for backtracking line search ('t_init'), the stopping criteria ('epsilon'), and the number of classes in the dataset ('classes'). My function also implements 3-fold cross-validation to find the optimal value of the regularization parameter for each one-vs-one model. The parameter 'lamdas' is the list of regularization parameters to test.\n",
    "\n",
    "The output of my model is the predicted classes for the test set, which I then use to calculate the misclassification error as the final indicator of model performance."
   ]
  },
  {
   "cell_type": "code",
   "execution_count": 5,
   "metadata": {},
   "outputs": [
    {
     "name": "stdout",
     "output_type": "stream",
     "text": [
      "Misclassification error on test set: 10.0%\n"
     ]
    }
   ],
   "source": [
    "# Define values of the regularization parameter to test during cross-validation\n",
    "lamdas = np.logspace(-5, 5, num = 20)\n",
    "\n",
    "# Train one-vs-one models and return predictions\n",
    "y_predicted = lr.ovo(x_train, y_train, x_test, lamdas, t_init=1, epsilon=0.001, classes=3)\n",
    "\n",
    "# Print results\n",
    "print('Misclassification error on test set: {:.1f}%'.format((1-np.mean(y_predicted==y_test))*100))"
   ]
  },
  {
   "cell_type": "markdown",
   "metadata": {},
   "source": [
    "The model performed very well on this dataset, giving an accuracy of 90.0% on the test set. For another evaluation metric, I include the confusion matrix:"
   ]
  },
  {
   "cell_type": "code",
   "execution_count": 6,
   "metadata": {},
   "outputs": [
    {
     "data": {
      "text/plain": [
       "array([[71,  1, 14],\n",
       "       [ 0, 88,  1],\n",
       "       [ 5,  4, 66]], dtype=int64)"
      ]
     },
     "execution_count": 6,
     "metadata": {},
     "output_type": "execute_result"
    }
   ],
   "source": [
    "# Compute confusion matrix using scikit-learn's built in metrics module\n",
    "metrics.confusion_matrix(y_test, y_predicted)"
   ]
  },
  {
   "cell_type": "markdown",
   "metadata": {},
   "source": [
    "In the above matrix, the rows represent the actual classes while the columns represent the predicted classes (therefore the diagonals are correct predictions). It appears that the most common mistakes on this dataset were labelling zeros as twos, and labelling twos as zeros or ones."
   ]
  }
 ],
 "metadata": {
  "kernelspec": {
   "display_name": "Python 3",
   "language": "python",
   "name": "python3"
  },
  "language_info": {
   "codemirror_mode": {
    "name": "ipython",
    "version": 3
   },
   "file_extension": ".py",
   "mimetype": "text/x-python",
   "name": "python",
   "nbconvert_exporter": "python",
   "pygments_lexer": "ipython3",
   "version": "3.6.4"
  }
 },
 "nbformat": 4,
 "nbformat_minor": 2
}
